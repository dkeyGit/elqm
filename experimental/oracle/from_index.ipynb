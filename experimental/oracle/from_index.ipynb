{
 "cells": [
  {
   "cell_type": "code",
   "execution_count": 1,
   "metadata": {},
   "outputs": [],
   "source": [
    "import os\n",
    "import pandas as pd\n",
    "import numpy as np\n",
    "from dynaconf import Dynaconf\n",
    "\n",
    "from elqm import ELQMPipeline\n",
    "from elqm.utils import get_configs_dir, get_data_dir, get_cache_dir"
   ]
  },
  {
   "cell_type": "code",
   "execution_count": null,
   "metadata": {},
   "outputs": [],
   "source": [
    "elqm = ELQMPipeline(config=Dynaconf(settings_files=os.path.join(get_configs_dir(), \"256_nlc_bge_meta_fn_enrich.yaml\")))"
   ]
  },
  {
   "cell_type": "code",
   "execution_count": 3,
   "metadata": {},
   "outputs": [
    {
     "name": "stderr",
     "output_type": "stream",
     "text": [
      "100%|██████████| 68126/68126 [02:06<00:00, 538.82it/s]\n"
     ]
    }
   ],
   "source": [
    "documents = elqm.loader.load()"
   ]
  },
  {
   "cell_type": "code",
   "execution_count": 4,
   "metadata": {},
   "outputs": [],
   "source": [
    "from elqm.eval.oracle import generate_question_answer_pairs"
   ]
  },
  {
   "cell_type": "code",
   "execution_count": 5,
   "metadata": {},
   "outputs": [
    {
     "name": "stdout",
     "output_type": "stream",
     "text": [
      "Community market. The Member States shall notify those provisions to the Commission by 20 November 2010 and shall notify it without delay of any subsequent amendment affecting them.\n",
      "Article 21\n",
      "Review\n",
      "Not later than 2012, the Commission shall review the\n"
     ]
    }
   ],
   "source": [
    "print(documents[2].metadata['text'])"
   ]
  },
  {
   "cell_type": "code",
   "execution_count": 6,
   "metadata": {},
   "outputs": [
    {
     "name": "stdout",
     "output_type": "stream",
     "text": [
      "{QUESTION 1}: What is the deadline for notifying the Commission of any amendments to the provisions related to the Community market? {ANSWER 1}: Not later than 2012, the Commission shall review the provisions."
     ]
    },
    {
     "data": {
      "text/plain": [
       "[('What is the deadline for notifying the Commission of any amendments to the provisions related to the Community market? ',\n",
       "  'Not later than 2012, the Commission shall review the provisions.')]"
      ]
     },
     "execution_count": 6,
     "metadata": {},
     "output_type": "execute_result"
    }
   ],
   "source": [
    "generate_question_answer_pairs(\n",
    "    context=documents[2].metadata['text'],\n",
    "    prompt=None,  # default\n",
    "    question_type=None,  # default\n",
    "    n=1,\n",
    "    verbose=True)"
   ]
  },
  {
   "cell_type": "code",
   "execution_count": 7,
   "metadata": {},
   "outputs": [],
   "source": [
    "from langchain_core.documents import Document\n",
    "from tqdm import tqdm\n",
    "\n",
    "import csv\n",
    "import json\n",
    "import os\n",
    "import re\n",
    "import shutil\n",
    "import tempfile\n",
    "import textwrap\n",
    "\n",
    "import numpy as np\n",
    "from bs4 import BeautifulSoup\n",
    "from langchain.document_loaders import DirectoryLoader, JSONLoader\n",
    "from langchain.llms import Ollama\n",
    "from langchain.text_splitter import RecursiveCharacterTextSplitter\n",
    "from tqdm import tqdm\n",
    "\n",
    "from elqm.utils import get_data_dir"
   ]
  },
  {
   "cell_type": "code",
   "execution_count": 8,
   "metadata": {},
   "outputs": [],
   "source": [
    "QUSTION_TYPES = {\n",
    "    \"confirmation\": \"Focus only on confirmation questions, i.e. questions that can be answered with a yes or no.\",\n",
    "    \"factoid\": \"Focus only on factoid questions, that usually begin with a who, what, where, when, why, or how.\",\n",
    "    \"list\": \"Focus only on list questions, i.e. questions that are answered with a list of items.\",\n",
    "    \"causal\": \"Focus only on causal questions, i.e. questions that begin with why or how.\",\n",
    "    \"hypothetical\": \"Focus only on hypothetical questions, i.e. questions that ask what if.\",\n",
    "    \"complex\": \"Focus only on complex questions, i.e. questions that require multi-step reasoning and comparisons.\",\n",
    "    \"default\": \"\"\n",
    "}\n",
    "\n",
    "\n",
    "def generate_question_answer_pairs(context: str, prompt: str | None = None, question_type: str | None = None, n: int = 1, verbose: bool = False) -> list[tuple[str, str]]:\n",
    "    \"\"\"\n",
    "    Generate question-answer pairs from a given context using the Ollama model.\n",
    "\n",
    "    Parameters\n",
    "    ----------\n",
    "    context : str\n",
    "        The context from which to generate the question-answer pairs.\n",
    "    prompt : str, optional\n",
    "        The prompt to use for the Ollama model. If None, a default prompt is used.\n",
    "    question_type : str, optional\n",
    "        The type of questions to generate. If None, any type of question is generated.\n",
    "    n : int, optional\n",
    "        The number of question-answer pairs to generate.\n",
    "    verbose : bool, optional\n",
    "        Whether to print the output of the Ollama model.\n",
    "\n",
    "    Returns\n",
    "    -------\n",
    "    list[tuple[str, str]]\n",
    "        A list of question-answer pairs.\n",
    "    \"\"\"\n",
    "    if prompt is None:\n",
    "\n",
    "        question_type_prompt = QUSTION_TYPES.get(question_type, QUSTION_TYPES[\"default\"])  # type: ignore\n",
    "\n",
    "        prompt = textwrap.dedent(f'''You are an oracle system or a Retrieval Augmented Generation System, that guesses questions that would answered by a particular exerpt of text.\n",
    "            Fiven the following exerpt of text, generate {n} question{\"s\" if n > 1 else \"\"} that can be answered by the exerpt of text.\n",
    "            ```\n",
    "            {context}\n",
    "            ```\n",
    "             {question_type_prompt} \\\n",
    "            Format the pairs as follows:\n",
    "            ```\n",
    "            {{QUESTION i}}: <question i> {{ANSWER i}}: <answer i>\n",
    "            ```\n",
    "            Do not add any additional newlines between the pairs. Directly continue with the answer after the question.\n",
    "            Only add a newline between the pairs (after the answer) if you want to add more pairs.\n",
    "            Do not deviate from this format, since it will be used to extract the questions with the following regex: `{{QUESTION \\\\d+}}: .+ {{ANSWER \\\\d+}}: .+`\n",
    "            ''')\n",
    "\n",
    "    # Clear the message history by initializing a new Ollama instance\n",
    "    ollama = Ollama(\n",
    "        base_url=\"http://localhost:11434\",\n",
    "        model=\"llama2\",\n",
    "        verbose=True,\n",
    "        stop=[\"<|im_end|>\"]\n",
    "    )\n",
    "\n",
    "    if verbose:\n",
    "        # Stream the output\n",
    "        response = \"\"\n",
    "        for token in ollama.stream(prompt):\n",
    "            response += token\n",
    "            print(token, end=\"\")\n",
    "    else:\n",
    "        # Generate the question-answer pairs\n",
    "        response = ollama.invoke(prompt)\n",
    "\n",
    "    # Filter out the question-answer pairs\n",
    "    qa_strings = re.findall(r'{QUESTION \\d+}: .+ {ANSWER \\d+}: .+', response)\n",
    "\n",
    "    # Extract the question and answer from the question-answer pairs\n",
    "    qa_pairs = []\n",
    "    for qa_pair in qa_strings:\n",
    "        question, answer = qa_pair.split(\"{ANSWER\")[0].split(\"}: \")[1], qa_pair.split(\"{ANSWER\")[1].split(\"}: \")[1]\n",
    "\n",
    "        # Skip empty questions or answers\n",
    "        if question != \"\" and answer != \"\":\n",
    "            qa_pairs.append((question, answer))\n",
    "        elif verbose:\n",
    "            print(f\"Question or answer is empty: {qa_pair}\")\n",
    "\n",
    "    # Check if any question-answer pairs were generated\n",
    "    if len(qa_pairs) == 0 and verbose:\n",
    "        print(f\"No question-answer pairs were generated: {qa_pairs}\")\n",
    "\n",
    "    return qa_pairs"
   ]
  },
  {
   "cell_type": "code",
   "execution_count": 9,
   "metadata": {},
   "outputs": [],
   "source": [
    "def generate_oracle_dataset(documents: list[Document], question_type: str | list[str] | None = None, n_questions_per_type: int = 1, verbose: bool = False) -> list[Document]:\n",
    "    \"\"\"\n",
    "    Generate a dataset of question-answer pairs from a given directory of data.\n",
    "\n",
    "    Parameters\n",
    "    ----------\n",
    "    documents : list[Document]\n",
    "        The list of documents to generate question-answer pairs from.\n",
    "    question_type : str | list[str], optional\n",
    "        The type of question to generate. If None, all types are used, by default None\n",
    "    n_questions_per_type : int, optional\n",
    "        The number of questions to generate per question type, by default 1\n",
    "    verbose : bool, optional\n",
    "        Whether to print progress, by default False\n",
    "    \"\"\"\n",
    "\n",
    "    if isinstance(question_type, str):\n",
    "        question_type = [question_type]\n",
    "    elif question_type is None:\n",
    "        question_type = list(QUSTION_TYPES.keys())\n",
    "\n",
    "    # Generate question-answer pairs for each document\n",
    "    for document in tqdm(documents, desc=\"Generating question-answer pairs\", disable=not verbose):\n",
    "\n",
    "        # If a raw text is available (as in the case of enrichment), use the raw text stored in the metadata\n",
    "        if 'text' in document.metadata:\n",
    "            context = document.metadata['text']\n",
    "        # Otherwise, use the page content\n",
    "        else:\n",
    "            context = document.page_content\n",
    "\n",
    "        document.metadata['oracle_pairs'] = []\n",
    "\n",
    "        for qt in question_type:\n",
    "            pairs = generate_question_answer_pairs(context, question_type=qt, n=n_questions_per_type, verbose=False)\n",
    "            for pair in pairs:\n",
    "                document.metadata['oracle_pairs'].append({'question': pair[0], 'answer': pair[1], 'type': qt})\n",
    "                \n",
    "    return documents"
   ]
  },
  {
   "cell_type": "code",
   "execution_count": 10,
   "metadata": {},
   "outputs": [
    {
     "name": "stderr",
     "output_type": "stream",
     "text": [
      "Generating question-answer pairs: 100%|██████████| 10/10 [00:43<00:00,  4.32s/it]\n"
     ]
    }
   ],
   "source": [
    "oracle_documents = generate_oracle_dataset(documents[:10], n_questions_per_type=1, verbose=True)"
   ]
  },
  {
   "cell_type": "code",
   "execution_count": null,
   "metadata": {},
   "outputs": [],
   "source": [
    "oracle_documents[0]"
   ]
  }
 ],
 "metadata": {
  "kernelspec": {
   "display_name": "elqm",
   "language": "python",
   "name": "python3"
  },
  "language_info": {
   "codemirror_mode": {
    "name": "ipython",
    "version": 3
   },
   "file_extension": ".py",
   "mimetype": "text/x-python",
   "name": "python",
   "nbconvert_exporter": "python",
   "pygments_lexer": "ipython3",
   "version": "3.11.7"
  }
 },
 "nbformat": 4,
 "nbformat_minor": 2
}
