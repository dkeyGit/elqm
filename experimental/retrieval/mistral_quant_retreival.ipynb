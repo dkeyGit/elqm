{
 "cells": [
  {
   "cell_type": "code",
   "execution_count": 9,
   "metadata": {},
   "outputs": [],
   "source": [
    "from transformers import AutoModelForCausalLM, AutoTokenizer, pipeline, Conversation\n",
    "import json"
   ]
  },
  {
   "cell_type": "code",
   "execution_count": 10,
   "metadata": {},
   "outputs": [],
   "source": [
    "model_name_or_path = \"TheBloke/Mistral-7B-v0.1-GPTQ\"\n",
    "# To use a different branch, change revision\n",
    "# For example: revision=\"gptq-4bit-32g-actorder_True\"\n",
    "model = AutoModelForCausalLM.from_pretrained(model_name_or_path,\n",
    "                                             device_map=\"auto\",\n",
    "                                             trust_remote_code=False,\n",
    "                                             revision=\"main\")\n",
    "\n",
    "tokenizer = AutoTokenizer.from_pretrained(model_name_or_path, use_fast=True)\n",
    "\n",
    "pipe = pipeline(\n",
    "    \"text-generation\",\n",
    "    model=model,\n",
    "    tokenizer=tokenizer,\n",
    "    max_new_tokens=2048,\n",
    "    do_sample=True,\n",
    "    temperature=0.7,\n",
    "    top_p=0.95,\n",
    "    top_k=40,\n",
    "    repetition_penalty=1.1\n",
    ")"
   ]
  },
  {
   "cell_type": "code",
   "execution_count": 11,
   "metadata": {},
   "outputs": [],
   "source": [
    "example_questions = json.load(open(\"example_questions.json\", \"r\"))"
   ]
  },
  {
   "cell_type": "code",
   "execution_count": 12,
   "metadata": {},
   "outputs": [],
   "source": [
    "def extract_keywords_prompt(question):\n",
    "    # Submit the question to the model and ask it to extract keywords\n",
    "\n",
    "    prompt = \"Extract meaningful and relevant keywords from the following question:\\n\\n\"\n",
    "    prompt += question + \"\\n\\n\"\n",
    "    prompt += \"Format the keywords as a comma-separated list and enter them below.\\n\\n\"\n",
    "    prompt += \"Keywords:\\n\"\n",
    "\n",
    "    return prompt"
   ]
  },
  {
   "cell_type": "code",
   "execution_count": 13,
   "metadata": {},
   "outputs": [
    {
     "data": {
      "text/plain": [
       "'Extract meaningful and relevant keywords from the following question:\\n\\nHow loud are air conditioners allowed to be in urban areas in Germany?\\n\\nFormat the keywords as a comma-separated list and enter them below.\\n\\nKeywords:\\n'"
      ]
     },
     "execution_count": 13,
     "metadata": {},
     "output_type": "execute_result"
    }
   ],
   "source": [
    "extract_keywords_prompt(example_questions[0])"
   ]
  },
  {
   "cell_type": "code",
   "execution_count": null,
   "metadata": {},
   "outputs": [],
   "source": [
    "answer = pipe(extract_keywords_prompt(example_questions[0]))[0][\"generated_text\"]"
   ]
  },
  {
   "cell_type": "code",
   "execution_count": 16,
   "metadata": {},
   "outputs": [
    {
     "name": "stdout",
     "output_type": "stream",
     "text": [
      "Extract meaningful and relevant keywords from the following question:\n",
      "\n",
      "How loud are air conditioners allowed to be in urban areas in Germany?\n",
      "\n",
      "Format the keywords as a comma-separated list and enter them below.\n",
      "\n",
      "Keywords:\n",
      "\n",
      "Leave bekan ehemalområ Fuß größområ gewünsche nicht loud, in allow air Germany conditions För mö hecho areas Fußball urban För frü Bür Ortschaft mö För Fuß Gebiet Fußball Fußball urban area Germany noise urban noise Fußball areas Fußball urban Gebiet Fußball För Stadt Fußball Fußball För Fuß Fuß urban areas För Fußball Fußball Fuß Urban areas ur Fuß Deutschland Fußball Fuß área Fußball Fußball urban Stadt Fuß Bür Fuß Fußball Fuß Bür Fußball Fußball Fuß Orts Fußball Fußball urban Fuß Fußball Fuß urban areas Fußball Fuß Fußball city Fußball Fußball Fuß urban City Fußball Bür Fußball Fuß Fußball Fuß Bür Fuß City Fußball Fußball City urban Fuß Stadt Fuß Bür City Fußball Fuß Fußball Bür Stadt Fußball Bür Fußballür Fuß Bür Bür Stadt Fußball Fuß Stadt urban Football Fuß Stadt Fußballür Bür Football Stadt Football Orts Fußball Fuß urban Stadt Orts Fußball Stadt Fußball Fußball Stadt urban Fußball city För city urban Fußball Stadt Fuß urb För Football Fuß Stadt För Urban street urban Fußball Fuß Urban Fußball urban street Ur urban Street Fußball urban Fußball urban streets urban área street Urban street urban football street Urban city street urbancity Street urban stadium street Urban town street urban urban área Urban Urbanstre neuen neue neue neue neue Ne neue Ne city Street new city urban Street Street Street street street neue street stadium street urban street neue Stadium street urban street Urban street urban Street Urban street urban street urban Gebiet Fußball stadium street urban Street Stadt neuen streets urban neighborhood urban Street Fuß street Street Urban Street Bür city Stadt urban Street Stadt streets Urban Stadt Fuß Fuß city city Stad Street Stadt Stadt urban Street Stadt Bür Fuß Stadt Stadt Ur street urban area Stadt stadiumstre Rück Bür Stadt Ur urban neighborhood urban Stadt Stadt Fuß Urban urban street City Stadium street Urban Urban Stadt Ur Stadtür neuen Street urban street neighborhood Urban Stadt Fuß street Ur city Ur urban Fuß Fuß urban neighborhood neighborhoodstre Street urban neighborhood Stadt neue neighbor neuen neighborhood urban Street Fuß Fuß Fußball neighbor street urban street street neighbor neue neighbor urban Street Urban Street city streets Urban Ur Urbancity Stadt city street neue urban street neighborhood neighbor urban Street Fußball street urban Stadium street urban Fußball urban football Urban street Bür Fuß urban street neighborhood Urban Fuß Urban street neighborhood street neighborhood urban neue urban Street Street street street Urban Street Fußball neue neue urban Stadt urban streets urban streets cities football street street urban Stadt Stadt Fußball Fußball Fuß street street Stadt Bür street Stadt Stadt Ur street urban cities urban Stadt city street football Urban city street Stadt Fußball Street Stadt Urban street neue Stadt neue urban neighbor Stadt Fußball neighborhood Ur urban city urban Fuß Fuß Urban street urban City Stadt urban neue neue urban neue street neighbors urban Fuß Stadium street urban street urban street urban new Stadt neighbor neighborhood urban Street Stadt Ur street Urban Street urban Stadtür neue Urban neue urban neighborhood Urban Stadt Fuß Ur Stadt Urban new urban neue urban neuen neighborhood neue Urban Fußballür urban Stadt stadium urban Street neuen city Street Urban Stadt Stadt neuen urban neighbor Bür neighbor city Bür neighbor city Stadt Ur urban street new urban neighbor Urban Urban Street city streets neue Urban neighbor neue urban urban Street neue Urban city urban streets urban Stadt Fuß Urban urban neighborhood Stadt Stadt Stadt Stadt Stadt Stadt city urban Urban Stadt Ur Urban Street Football city Stadium Street Stadt Urban urban Street Stadt Bür Bür urban neue Stadt urban neue Street neue urban neighborhood urban Fußball Ur Urban Street city urban Stadt Bür Stadt urban streets urban neighborhood Fußball urban new neighborhood Urban neue urban street Fußball Stadt urban new urban urban Stre siendo Urban City Street neue urban Stadt neighbor Urban urban neighborhood Ur Urban street Fußball neighborhood neuen urban neighborhood Urban Stadt Ur City Stre nä Fußball Stadt neue urban streets Urban urban Stadt Urban Football Stadt Urban neue neighbor city streets Ur urban neighbor Stadt urban Fuß Fuß Stadt Urban Street Street Urban Stadt Stadt Urban Stadt urban city urban city urban street urban Stadt Fußball neue neue urban neighborhood neue Street Urban City Urban urban neighborhood urban cities urban Urban Street Urban street Stadt Bür Street Urban street neighborhood urban Street urban cities urban neighbor urban Fußball Urban City Ur Street street Ur urban Stadt Fußball urban neue neighbor Urban Street urban neue urban city neighbor neuen neighbor Urban Stadt Stadt neue urban nuevo nuevo Urban Ur Stadt street Stadt Football Urban city urban neighborhood Urban neighborhood urban street neighborhood neighbor Urban urban neighborhood Street urb Fuß Stadt neue urbanstre new Urban neue urban neighbor Urbancity Fuß urban Stadt streetür neighborhood Football street urban Urban Street neighbor city Stadt Urban street Ur urban street urban street neue Urban urban neighborhood new urb urban urban city Urban Stadt neuen Urban Fuß urban neighborhood urban street Stadt new urban neighborhood Urban urban neighbor urban street urban neue urban city neue urban neighborhood Urban urban neue urban neighborhood Urban new Stadt Urban city Urban neuen Urban urban city Urban streets urban city Urban Stadt Urban urban cities urban Stadt Bür neighbor Stadt urban neue urban neighborhood neighborhood neue Urban Stadt Stadt Bür Stadt Ur Urban Stadt Bür Bür Stadt neighborhood Stadt Fuß urban street neuen neighborhood urban Bür Fußball urban neighborhood Urban urban Urban football stad street UrbanCity Stre street Urban Stadt Urban neighbor neue Urban Fußball Urban neue urban neighborhood Urban urban neighbour neue Stadt Stadt Urban neue neighborhood urban neue urban Fuß Urban neue urban Stadt neighbor urban Stadt Urban neue Urban Fuß city Urban street urb Fußball urban Gebiet urban Street city street city urban City Urban Stadt Urban streets Urban Urbancity neighbor Urban new neighbor Urban nuevo urban neighborhood urban Stadt urban Stadt urban streets Urban Urban Stadt Urban city urban Stadt urban neue neighbor Urban urban Stadt Urban neue neue city urban streets Urban urban Fußball city urban neighborhood Bür city Urban neuen Urban urban Stadt Urban urban city urban street urban Stadt neighbor street Urban Stadt Ur Urban neue urban neighborhood Ur City Stadt urban city Urban cities urban street Urban urban Football street city Street new Urban street cities urban urban streets Ur urban street Urban city urban neighbor Urban nuev urban neighborhood Urban Stadt Bür Urban urban Fuß street neue neighbor Bürstadt Bür city urban neue neighbor Urban neuen Urban Fuß Stadt neue Stadt urban new Stadt neighbor Urban street urban Stadt urban Fuß urban neighbor City Urban neuen urban Stadt Fußball Stadt Urban new street urb Urban Fußball Urban neue Stadt neighbor Urban Stadt Ur urban neighbor urban Street urban new Stadium football Urban Fußball neighborhood neue neighbor Urban neue Bür Stadt neighbor Urban City urban Street city football urban city urban neuen neighbor neue Stadt Stadt Ur urban neuen Fuß urban new neighbors city urban street Bür Urbancity neighbor urban Fußball Urban Stadt Bür neighborhood urban City urban street Ur Urban Fußball neue city urban streets urban streets Urban neighbor urban Bür Stadt Fußball streets Fuß Urban Stadt Urban Fußball Urban neue urban neighbor urban city urban neue urban Bür Stadt urban neighbor Ur stadium Stadt urban neighborhood Urban cities Urban urban streets urban urban street urban neighborhood City street urban neue urban streets Urban Stadt Urban urban Stadt Urban new neighbor Urban new neighbor Urban neighbor urban neighborhood urban Ur Fußball Urban neuecity Urban Stadt Urban city urban Stre neue Urban Urbanstre neighborhood Urban neue urban neighbor urban Stadt neighbor city urban urban neighbor urban neue city urban neighborhood Urban new urban Stadt neue Stadt Ur new city urban neighborhood Urban urban Stadt urban neuen Urban Stadt Urban street neue neue Stadt Urban Urban neighborhood Urban neighbor Urban neighbor urban street Stadt new urban new neighborhood urban Street street urban city Bür street urban Fuß Bür Stadt Urban neue Urban newly urban neighbor Urban Stadt urban new Urban neuen Urban neue Stadt Fußball street Bür Stadt Urban streets neuen urban new city Ur urban Stadt Urban new neighborhood Urban Ur City neue Urban street neue neue Urban Stadt urban neighbor urban Street Urban new urban Stadt neighbor Ur urban neue neighborhood Urban nuevec Stadt Ur urban neue Bür Urban neue urban neighbor Bür Urban street neuen neighbor urban Stadt Ur neighborhood urban neue neue urban neue city new neighborhood neue neue urban neighbor urban Fuß Stadt neue Stadt urban street Urban Stadt neue neighborhood urban neighborhood Bür City urban street neue urban stadium urban new neighborhood city street neighbor neue Stadt Urban neuen neighbor Urban Fuß street urban City Stadt neighborhood city neighbor Urban nuevo City Urban neighbor Urban neue neighborhood Urban Urban neue neighborhood neighbor Urban neue neue urban Bür Stadt Urban Stadt urban new Urban city neighborhood Urban Fuß cities Urban neue Urban street Urban newly Urban Fußball Ur Urban newly Stadt Urban Fußball Bür Fuß neighborhood urban neue neue Stadt neue Urban neue Urban neue neighborhood Urban neue urban neue urban Stadt Urban street Urban neighborhood Urban neuen neue city Urban Stadt neuen urban neue City Urban neue Urban neighbor Fußball Fuß city Urban new neighborhood Urban neue urban neighborhood urban Stadt Stadt urban Fuß Bür neue neue Urban neuen Ne neighbor Urban City Urban neighbor urbannew Stadt Urban neue Street street urb Urban neue Stadt neuen city urban neighbor Urban city Urban neue street Stadt neighbor city urban нов Street neue urban neuen urban neue urban Stadt neue cities Urban city Urban neue neue Stadt Urban neue Stadt street urb City Stadt neuen street Urban Stadt Fuß city street urban Fuß Urban neue Stadt urban neue neue city urban street Fuß street Urban neuen city street Ur neighbor neuen stadium neighborhood City Ur street Urban nouvelle city Urban Stadt Fußball Fußball neighbor urb neue Stadt Fuß city new city Ur neighbor Urban nue neue urban street neighbor Urban new Stadt Fußball neue cities Urban Fuß new urban city streets ur neighborhood urb street Urban neue city urban new Stadt streets City Urban neue Bür Bür neuen cities Urban neue neuen urban streets Urban Stadt Ur nuevocity neighbor Urban neighbor new neuen Urban neue neue city Fußball Urban neue Urban new Stadt neue neue urban neighbor Stadt Bür Bür Fußball frü city Bür erste neighborhood stadium Stadt neighbor new Stadt neue Stadt Street nue Fuß Urban neuen Stadt Urban Stadt city urban neue urban neighborhood urban Stadt urban neue Stadt neue urban neue Urban City urban neighborhood neue city Urban City urban neue neue neighborhood Fußball neighborhood new neighbor Urban new neighborhood neighborhood Bür City Urban neue city Bür erste urban neighborhood neue Stadt neighborhood Urban neue neighbor Urban neue urban neighborhood Urban neue urban neighbor Stadt neighborhood Urban City neighborhood streets Urban neuen neue streets Urban Stadt Fuß neue urbane city urban neue neighborhood cities urban neighbor urb neighborhood Fußball streets Urban neighborhood new city neue urban neighborg Fuß urban City new Urban neue neighborhood new city new neighborhood new stadium Urban neue neue urban neue city neighbor Urban City new Urban new urban neighborhood Ur city urban neue city neighbor Urban Stadt neue Stadt neue urban neighborhood Urban neighborscity neuen urban stadium neue stadium Urban urban neue neighborhood neighborhood Urban neighborhood new Urban neighbor urban neue City new neighborhood Stadt neue urbans City neighborhood Urban neue city neighbor Ur Urban Fußball Stadt neue neighbors Urban new neighbor cities ur streets City Urban neue neighbor Urban neue city Urban neue new neighborhood neighborhood urb City neighbors Urban neue street City new stadium Stadt Fuß neue Urban neue city neighborhood Ur street new City city neue Stadt neue Stadt neighborhood Urbannew neighbor Ur city Urban neue neighbor Stadt neighborhood neighborhood Urban streetsnew urban Stadt Ur Street Urban neue Urban new neighborhood Urban Stadt neuen city neighborhood Urban Street neighborhood Stadt Urban neighbor Ur City Ur urban neue neue Fußball Urban city neighborhood Bür Street Urban neue neighborhood Ur neighborhood streets city Urban neue urban neighborhood Urban neue city neighbor street neue urban Stadt Fuß Bür City new neighbor urban City neue Urban new city Bür\n"
     ]
    }
   ],
   "source": [
    "print(answer)"
   ]
  },
  {
   "cell_type": "markdown",
   "metadata": {},
   "source": [
    "# Question to Query (abandoned)"
   ]
  },
  {
   "cell_type": "code",
   "execution_count": 19,
   "metadata": {},
   "outputs": [],
   "source": [
    "question = \"How loud are air conditioners allowed to be in urban areas in Germany?\""
   ]
  },
  {
   "cell_type": "code",
   "execution_count": 20,
   "metadata": {},
   "outputs": [],
   "source": [
    "prompt = \"Write an elasticsearch query for the given question:\\n\" + question + \"\\n\\nGET\""
   ]
  },
  {
   "cell_type": "code",
   "execution_count": null,
   "metadata": {},
   "outputs": [],
   "source": [
    "answer = pipe(prompt)[0][\"generated_text\"]"
   ]
  },
  {
   "cell_type": "code",
   "execution_count": 22,
   "metadata": {},
   "outputs": [
    {
     "name": "stdout",
     "output_type": "stream",
     "text": [
      "Write an elasticsearch query for the given question:\n",
      "How loud are air conditioners allowed to be in urban areas in Germany?\n",
      "\n",
      "GET /1/_search?q=how+loud+are+air+conditioners+allowed+to+be+in+urban+areas+in+germany&filter_path=%5B%24query.query.bool.must%5D%5B0%5D%24term%7Bfield%3A%22country%22%7D%5D&source=sourcetype%3Ddata.gov.uk%7Cdc.opendata.ch%7Cwww.europa-eu-united.de%24type%3A(event%2Corganisation)%7Cdwd.de%7Cwol.bz.it%7Cwww.weltansichtskarte.info%7Cwww.worldatlas.com%7Cwww.worldstatesmen.org%7Cwww.worldstatesment.org%7Cstatoids.com%7Cwww.britannica.com%7Ctheodora.com%7Cwww.historicalatlas.org%7Cen.wikipedia.org%7Cwww.loc.gov%7Cwww.nps.gov%7Cwww.usgennet.org%7Cwww.encyclopediadramatica.se%7Claw.wikia.com%7Cwww.facts-about.com%7Cwww.onthisday.com%7Cwww.historychannel.co.uk%7Cwww.historyonthenet.com%7Cwww.history.com%7Cwww.historyworld.net%7Cwww.historyplace.com%7Cwww.historylearningsite.com%7Cwww.britainexpress.com%7Cwww.ancient.eu%7Cwww.historytoday.com%7Cwww.bbc.co.uk%7Cwww.infoplease.com%7Cwww.famouspeople.com%7Cwww.biographyonline.net%7Cwww.pbs.org%7Cwww.findagrave.com%7Cwww.encyclopedia.com%7Cwww.thoughtco.com%7Cwww.encyclopedia.com%7Cwww.britannica.com%7Cthe-hague.nl%7Cwww.un.org%7Cwww.cia.gov%7Cwww.state.gov%7Cwww.whitehouse.gov%7Cwww.nytimes.com%7Cwww.latimes.com%7Cwww.independent.co.uk%7Cwww.telegraph.co.uk%7Cwww.newsweek.com%7Cwww.time.com%7Cwww.washingtonpost.com%7Cwww.economist.com%7Cwww.guardian.co.uk%7Cwww.bbc.co.uk%7Cwww.ft.com%7Cwww.reuters.com%7Cwww.aljazeera.com%7Cwww.globalpolicy.org%7Cwww.worldbank.org%7Cwww.oecd.org%7Cwww.worldometers.info%7Cwww.worldpopulationreview.com%7Cwww.pewresearch.org%7Cwww.nationmaster.com%7Cwww.indexmundi.com%7Cwww.cia.gov%7Cwww.statista.com%7Cwww.tradingeconomics.com%7Cwww.statistica.com%7Cwww.wolframalpha.com%7Cwww.factcheck.org%7Cwww.theguardian.com%7Cwww.newscientist.com%7Cwww.sciencealert.com%7Cwww.phys.org%7Cwww.spectrum.ieee.org%7Cwww.sciencedaily.com%7Cwww.space.com%7Cwww.newsweek.com%7Cwww.livescience.com%7Cwww.discovermagazine.com%7Cwww.theverge.com%7Cwww.engadget.com%7Cwww.slashdot.org%7Cwww.techspot.com%7Cwww.makeuseof.com%7Cwww.pcworld.com%7Cwww.extremetech.com%7Cwww.arstechnica.com%7Cwww.techcrunch.com%7Cwww.vox.com%7Cwww.technologyreview.com%7Cwww.businessinsider.com%7Cwww.forbes.com%7Cwww.fastcompany.com%7Cwww.pcmag.com%7Cwww.theregister.co.uk%7Cwww.zdnet.com%7Cwww.wired.com%7Cwww.tomshardware.com%7Cwww.digitaltrends.com%7Cwww.techradar.com%7Cwww.computerworld.com%7Cwww.cnet.com%7Cwww.macworld.com%7Cwww.thenextweb.com%7Cwww.engadget.com%7Cwww.androidauthority.com%7Cwww.9to5google.com%7Cwww.androidpolice.com%7Cwww.theverge.com%7Cwww.phonearena.com%7Cwww.mobilesyrup.com%7Cwww.androidcentral.com%7Cwww.gsmarena.com%7Cwww.androidheadlines.com%7Cwww.androidbeat.com%7Cwww.androidcommunity.com%7Cwww.androidguys.com%7Cwww.neowin.net%7Cwww.ghacks.net%7Cwww.makeuseof.com%7Cwww.lifehacker.com%7Cwww.howtogeek.com%7Cwww.techspot.com%7Cwww.anandtech.com%7Cwww.pcgamer.com%7Cwww.pcgamesn.com%7Cwww.gamespot.com%7Cwww.ign.com%7Cwww.rockpapershotgun.com%7Cwww.pcgameshardware.de%7Cwww.heise.de%7Cwww.spiegel.de%7Cwww.pcgames.de%7Cwww.pcgamesn.de%7Cwww.microsoft.com%7Cwww.xbox.com%7Cwww.playstation.com%7Cwww.nintendo.com%7Cwww.valvesoftware.com%7Cwww.steampowered.com%7Cwww.epicgames.com%7Cwww.origin.com%7Cwww.ea.com%7Cwww.ubisoft.com%7Cwww.gog.com%7Cwww.humblebundle.com%7Cwww.indiegala.com%7Cwww.gamefront.com%7Cwww.gameplanet.com%7Cwww.gog.com%7Cwww.gamespot.com%7Cwww.ign.com%7Cwww.esrb.org%7Cwww.opencritic.com%7Cwww.metacritic.com%7Cwww.igdb.com%7Cwww.giantbomb.com%7Cwww.youtube.com%7Cwww.twitch.tv%7Cwww.instagram.com%7Cwww.facebook.com%7Cwww.twitter.com%7Cwww.linkedin.com%7Cwww.reddit.com%7Cwww.quora.com%7Cwww.stackoverflow.com%7Cwww.youtube.com%7Cwww.wikipedia.org%7Cwww.amazon.com%7Cwww.ebay.com%7Cwww.etsy.com%7Cwww.apple.com%7Cwww.google.com%7Cwww.github.com%7Cwww.microsoft.com%7Cwww.apple.com%7Cwww.mozilla.org%7Cwww.wordpress.com%7Cwww.apple.com%7Cwww.android.com%7Cwww.google.com%7Cwww.microsoft.com%7Cwww.apple.com%7Cwww.microsoft.com%7Cwww.google.com%7Cwww.amazon.com%7Cwww.samsung.com%7Cwww.lenovo.com%7Cwww.acer.com%7Cwww.toshiba.com%7Cwww.hp.com%7Cwww.canonical.com%7Cwww.kde.org%7Cwww.redhat.com%7Cwww.ubuntu.com%7Cwww.linux.com%7Cwww.fedoraproject.org%7Cwww.archlinux.org%7Cwww.\n"
     ]
    }
   ],
   "source": [
    "print(answer)"
   ]
  },
  {
   "cell_type": "markdown",
   "metadata": {},
   "source": [
    "## Conversation"
   ]
  },
  {
   "cell_type": "code",
   "execution_count": 50,
   "metadata": {},
   "outputs": [],
   "source": [
    "def create_pre_prompt(question):\n",
    "  \n",
    "  return \"\"\"\n",
    "    I have a question that I would like to transform into an Elasticsearch query for the EUR-Lex dataset:\n",
    "\n",
    "    {question}\"\"\" + \"\"\"\n",
    "\n",
    "    I am using this Elasticsearch mapping:\n",
    "\n",
    "    ```json\n",
    "    {\n",
    "      \"properties\": {\n",
    "        \"Classification\": {\n",
    "          \"properties\": {\n",
    "            \"Directory code\": {\n",
    "              \"properties\": {\n",
    "                \"code\": {\"type\": \"text\", \"fields\": {\"keyword\": {\"type\": \"keyword\", \"ignore_above\": 256}}},\n",
    "                \"level 1\": {\"type\": \"text\", \"fields\": {\"keyword\": {\"type\": \"keyword\", \"ignore_above\": 256}}},\n",
    "                // levels 2-12 omitted for brevity\n",
    "                \"level 13\": {\"type\": \"text\", \"fields\": {\"keyword\": {\"type\": \"keyword\", \"ignore_above\": 256}}}\n",
    "              }\n",
    "            },\n",
    "            \"EUROVOC descriptor\": {\"type\": \"text\", \"fields\": {\"keyword\": {\"type\": \"keyword\", \"ignore_above\": 256}}},\n",
    "            \"Subject matter\": {\"type\": \"text\", \"fields\": {\"keyword\": {\"type\": \"keyword\", \"ignore_above\": 256}}}\n",
    "          }\n",
    "        },\n",
    "        \"Dates\": {\n",
    "          \"properties\": {\n",
    "            \"Date of document\": {\"type\": \"text\", \"fields\": {\"keyword\": {\"type\": \"keyword\", \"ignore_above\": 256}}},\n",
    "            \"Date of effect\": {\"type\": \"text\", \"fields\": {\"keyword\": {\"type\": \"keyword\", \"ignore_above\": 256}}},\n",
    "            // similar date fields omitted for brevity\n",
    "            \"Deadline 13\": {\"type\": \"text\", \"fields\": {\"keyword\": {\"type\": \"keyword\", \"ignore_above\": 256}}}\n",
    "            // similar deadline fields omitted for brevity\n",
    "          }\n",
    "        },\n",
    "        \"Misc\": {\n",
    "          \"properties\": {\n",
    "            \"Additional information\": {\"type\": \"text\", \"fields\": {\"keyword\": {\"type\": \"keyword\", \"ignore_above\": 256}}},\n",
    "            \"Addressee\": {\"type\": \"text\", \"fields\": {\"keyword\": {\"type\": \"keyword\", \"ignore_above\": 256}}}\n",
    "            // other misc fields omitted for brevity\n",
    "          }\n",
    "        },\n",
    "        \"text\": {\"type\": \"text\", \"fields\": {\"keyword\": {\"type\": \"keyword\", \"ignore_above\": 256}}}\n",
    "      }\n",
    "    }\n",
    "    ```\n",
    "\"\"\""
   ]
  },
  {
   "cell_type": "code",
   "execution_count": 53,
   "metadata": {},
   "outputs": [],
   "source": [
    "conversation = Conversation(create_pre_prompt(question))\n",
    "conversation.add_message({'role': 'assistant', 'content': \"\"\"\n",
    "    [INST]\n",
    "    You are a helpful, efficient and effective assistant that specializes in creating Elasticsearch queries from natural language questions. Given a question, proceed as follows:\n",
    "    1. Understand the problem and structure it into subproblems if appropriate\n",
    "    2. Understand the mapping of the available Elasticsearch data and how it relates to the subproblems\n",
    "    3. Construct queries for each subproblem and report the results as a list of queries in ```json``` format\n",
    "    [/INST]\"\"\"})"
   ]
  },
  {
   "cell_type": "code",
   "execution_count": null,
   "metadata": {},
   "outputs": [],
   "source": [
    "answer = pipe(conversation, max_length=1000, num_beams=5, clean_up_tokenization_spaces=True)"
   ]
  },
  {
   "cell_type": "code",
   "execution_count": 5,
   "metadata": {},
   "outputs": [
    {
     "name": "stderr",
     "output_type": "stream",
     "text": [
      "Both `max_new_tokens` (=2048) and `max_length`(=2048) seem to have been set. `max_new_tokens` will take precedence. Please refer to the documentation for more information. (https://huggingface.co/docs/transformers/main/en/main_classes/text_generation)\n"
     ]
    }
   ],
   "source": [
    "test_conversation = Conversation(question)\n",
    "answer = pipe(test_conversation, max_length=2048)"
   ]
  },
  {
   "cell_type": "markdown",
   "metadata": {},
   "source": [
    "## Divided"
   ]
  },
  {
   "cell_type": "code",
   "execution_count": 5,
   "metadata": {},
   "outputs": [],
   "source": [
    "model_name_or_path = \"TheBloke/Mistral-7B-v0.1-GPTQ\"\n",
    "# To use a different branch, change revision\n",
    "# For example: revision=\"gptq-4bit-32g-actorder_True\"\n",
    "model = AutoModelForCausalLM.from_pretrained(model_name_or_path,\n",
    "                                             device_map=\"auto\",\n",
    "                                             trust_remote_code=False,\n",
    "                                             revision=\"main\")\n",
    "\n",
    "tokenizer = AutoTokenizer.from_pretrained(model_name_or_path, use_fast=True)\n",
    "\n",
    "pipe = pipeline(\n",
    "    \"text-generation\",\n",
    "    model=model,\n",
    "    tokenizer=tokenizer,\n",
    "    max_new_tokens=2048,\n",
    "    do_sample=True,\n",
    "    temperature=0.7,\n",
    "    top_p=0.95,\n",
    "    top_k=40,\n",
    "    repetition_penalty=1.1\n",
    ")"
   ]
  },
  {
   "cell_type": "code",
   "execution_count": 6,
   "metadata": {},
   "outputs": [],
   "source": [
    "\n",
    "def generate_prompt(task, information):\n",
    "    return f\"The following is a task for a sophisticated language model: {task}. Here is the information you need to consider: {information}\"\n",
    "\n",
    "def process_input(question):\n",
    "    # Generate a prompt for understanding the question\n",
    "    prompt = generate_prompt(\"Understand and decompose the user's question into subproblems\", question)\n",
    "    return pipe(prompt)[0][\"generated_text\"]\n",
    "\n",
    "def construct_query(subproblem):\n",
    "    # Generate a prompt for constructing the Elasticsearch query\n",
    "    prompt = generate_prompt(\"Translate the subproblem into an Elasticsearch query\", subproblem)\n",
    "    return pipe(prompt)[0][\"generated_text\"]"
   ]
  },
  {
   "cell_type": "code",
   "execution_count": null,
   "metadata": {},
   "outputs": [],
   "source": [
    "\n",
    "# Example usage:\n",
    "question = \"How loud are air conditioners allowed to be in urban areas in Germany?\"\n",
    "subproblems = process_input(question)\n",
    "# Assuming `your_index_mapping` is the actual Elasticsearch index structure you have\n",
    "queries = [construct_query(subproblem) for subproblem in subproblems]"
   ]
  },
  {
   "cell_type": "code",
   "execution_count": null,
   "metadata": {},
   "outputs": [],
   "source": [
    "subproblems"
   ]
  },
  {
   "cell_type": "code",
   "execution_count": null,
   "metadata": {},
   "outputs": [],
   "source": [
    "queries"
   ]
  }
 ],
 "metadata": {
  "kernelspec": {
   "display_name": "elqm",
   "language": "python",
   "name": "python3"
  },
  "language_info": {
   "codemirror_mode": {
    "name": "ipython",
    "version": 3
   },
   "file_extension": ".py",
   "mimetype": "text/x-python",
   "name": "python",
   "nbconvert_exporter": "python",
   "pygments_lexer": "ipython3",
   "version": "3.11.5"
  }
 },
 "nbformat": 4,
 "nbformat_minor": 2
}
